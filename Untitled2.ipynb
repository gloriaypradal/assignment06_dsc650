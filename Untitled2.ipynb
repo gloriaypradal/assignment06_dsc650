{
 "cells": [
  {
   "cell_type": "code",
   "execution_count": 3,
   "id": "stopped-jerusalem",
   "metadata": {},
   "outputs": [
    {
     "ename": "ERROR",
     "evalue": "Error: package or namespace load failed for ‘tidyverse’ in loadNamespace(j <- i[[1L]], c(lib.loc, .libPaths()), versionCheck = vI[[j]]):\n namespace ‘pillar’ 1.5.1 is already loaded, but >= 1.6.0 is required\n",
     "output_type": "error",
     "traceback": [
      "Error: package or namespace load failed for ‘tidyverse’ in loadNamespace(j <- i[[1L]], c(lib.loc, .libPaths()), versionCheck = vI[[j]]):\n namespace ‘pillar’ 1.5.1 is already loaded, but >= 1.6.0 is required\nTraceback:\n",
      "1. library(tidyverse)",
      "2. tryCatch({\n .     attr(package, \"LibPath\") <- which.lib.loc\n .     ns <- loadNamespace(package, lib.loc)\n .     env <- attachNamespace(ns, pos = pos, deps, exclude, include.only)\n . }, error = function(e) {\n .     P <- if (!is.null(cc <- conditionCall(e))) \n .         paste(\" in\", deparse(cc)[1L])\n .     else \"\"\n .     msg <- gettextf(\"package or namespace load failed for %s%s:\\n %s\", \n .         sQuote(package), P, conditionMessage(e))\n .     if (logical.return) \n .         message(paste(\"Error:\", msg), domain = NA)\n .     else stop(msg, call. = FALSE, domain = NA)\n . })",
      "3. tryCatchList(expr, classes, parentenv, handlers)",
      "4. tryCatchOne(expr, names, parentenv, handlers[[1L]])",
      "5. value[[3L]](cond)",
      "6. stop(msg, call. = FALSE, domain = NA)"
     ]
    }
   ],
   "source": [
    "library(ggplot2)\n",
    "library(tidyverse)\n",
    "library(magrittr)\n",
    "library(dplyr)\n",
    "library(plyr)\n",
    "library(tidyr)\n",
    "library(reshape2)"
   ]
  },
  {
   "cell_type": "code",
   "execution_count": 2,
   "id": "loaded-scanning",
   "metadata": {},
   "outputs": [
    {
     "name": "stderr",
     "output_type": "stream",
     "text": [
      "Installing package into ‘/usr/local/spark-3.1.1-bin-hadoop3.2/R/lib’\n",
      "(as ‘lib’ is unspecified)\n",
      "\n",
      "also installing the dependencies ‘credentials’, ‘zip’, ‘gitcreds’, ‘ini’, ‘fastmap’, ‘highr’, ‘markdown’, ‘xfun’, ‘clipr’, ‘gert’, ‘gh’, ‘whisker’, ‘processx’, ‘cachem’, ‘xopen’, ‘brew’, ‘commonmark’, ‘knitr’, ‘usethis’, ‘callr’, ‘cli’, ‘fs’, ‘memoise’, ‘pkgload’, ‘rcmdcheck’, ‘remotes’, ‘roxygen2’, ‘rversions’, ‘sessioninfo’\n",
      "\n",
      "\n",
      "Downloading GitHub repo hadley/tidyverse@HEAD\n",
      "\n"
     ]
    },
    {
     "name": "stdout",
     "output_type": "stream",
     "text": [
      "vctrs        (0.3.6 -> 0.3.7   ) [CRAN]\n",
      "tinytex      (NA    -> 0.31    ) [CRAN]\n",
      "hms          (NA    -> 1.0.0   ) [CRAN]\n",
      "cpp11        (NA    -> 0.2.7   ) [CRAN]\n",
      "pillar       (1.5.1 -> 1.6.0   ) [CRAN]\n",
      "tibble       (3.1.0 -> 3.1.1   ) [CRAN]\n",
      "BH           (NA    -> 1.75.0-0) [CRAN]\n",
      "viridisLite  (0.3.0 -> 0.4.0   ) [CRAN]\n",
      "withr        (2.4.1 -> 2.4.2   ) [CRAN]\n",
      "gargle       (NA    -> 1.1.0   ) [CRAN]\n",
      "rematch      (NA    -> 1.0.1   ) [CRAN]\n",
      "selectr      (NA    -> 0.4-2   ) [CRAN]\n",
      "rmarkdown    (NA    -> 2.7     ) [CRAN]\n",
      "progress     (NA    -> 1.2.2   ) [CRAN]\n",
      "cellranger   (NA    -> 1.1.0   ) [CRAN]\n",
      "broom        (NA    -> 0.7.6   ) [CRAN]\n",
      "readr        (NA    -> 1.4.0   ) [CRAN]\n",
      "forcats      (NA    -> 0.5.1   ) [CRAN]\n",
      "ids          (NA    -> 1.0.1   ) [CRAN]\n",
      "googledrive  (NA    -> 1.0.1   ) [CRAN]\n",
      "data.table   (NA    -> 1.14.0  ) [CRAN]\n",
      "rvest        (NA    -> 1.0.0   ) [CRAN]\n",
      "reprex       (NA    -> 2.0.0   ) [CRAN]\n",
      "readxl       (NA    -> 1.3.1   ) [CRAN]\n",
      "modelr       (NA    -> 0.1.8   ) [CRAN]\n",
      "lubridate    (NA    -> 1.7.10  ) [CRAN]\n",
      "haven        (NA    -> 2.4.1   ) [CRAN]\n",
      "googleshe... (NA    -> 0.3.0   ) [CRAN]\n",
      "dtplyr       (NA    -> 1.1.0   ) [CRAN]\n",
      "dbplyr       (2.1.0 -> 2.1.1   ) [CRAN]\n"
     ]
    },
    {
     "name": "stderr",
     "output_type": "stream",
     "text": [
      "Installing 30 packages: vctrs, tinytex, hms, cpp11, pillar, tibble, BH, viridisLite, withr, gargle, rematch, selectr, rmarkdown, progress, cellranger, broom, readr, forcats, ids, googledrive, data.table, rvest, reprex, readxl, modelr, lubridate, haven, googlesheets4, dtplyr, dbplyr\n",
      "\n",
      "Installing packages into ‘/usr/local/spark-3.1.1-bin-hadoop3.2/R/lib’\n",
      "(as ‘lib’ is unspecified)\n",
      "\n"
     ]
    },
    {
     "name": "stdout",
     "output_type": "stream",
     "text": [
      "\u001b[32m✔\u001b[39m  \u001b[90mchecking for file ‘/tmp/RtmpYcSdV5/remotes764fe5dd85/tidyverse-tidyverse-72af810/DESCRIPTION’\u001b[39m\u001b[36m\u001b[36m (629ms)\u001b[36m\u001b[39m\n",
      "\u001b[90m─\u001b[39m\u001b[90m  \u001b[39m\u001b[90mpreparing ‘tidyverse’:\u001b[39m\u001b[36m\u001b[39m\n",
      "\u001b[32m✔\u001b[39m  \u001b[90mchecking DESCRIPTION meta-information\u001b[39m\u001b[36m\u001b[39m\n",
      "\u001b[90m─\u001b[39m\u001b[90m  \u001b[39m\u001b[90mchecking for LF line-endings in source and make files and shell scripts\u001b[39m\u001b[36m\u001b[39m\n",
      "\u001b[90m─\u001b[39m\u001b[90m  \u001b[39m\u001b[90mchecking for empty or unneeded directories\u001b[39m\u001b[36m\u001b[39m\n",
      "\u001b[90m─\u001b[39m\u001b[90m  \u001b[39m\u001b[90mbuilding ‘tidyverse_1.3.1.9000.tar.gz’\u001b[39m\u001b[36m\u001b[39m\n",
      "   \n",
      "\r"
     ]
    },
    {
     "name": "stderr",
     "output_type": "stream",
     "text": [
      "Installing package into ‘/usr/local/spark-3.1.1-bin-hadoop3.2/R/lib’\n",
      "(as ‘lib’ is unspecified)\n",
      "\n",
      "Installing package into ‘/usr/local/spark-3.1.1-bin-hadoop3.2/R/lib’\n",
      "(as ‘lib’ is unspecified)\n",
      "\n"
     ]
    }
   ],
   "source": [
    "install.packages(\"devtools\")\n",
    "devtools::install_github(\"hadley/tidyverse\")\n",
    "install.packages(\"tidyr\")"
   ]
  },
  {
   "cell_type": "code",
   "execution_count": 4,
   "id": "numerical-playing",
   "metadata": {},
   "outputs": [
    {
     "name": "stderr",
     "output_type": "stream",
     "text": [
      "Warning message in file(file, \"rt\"):\n",
      "“cannot open file 'C:/Users/Gloria/df0809.csv': No such file or directory”\n"
     ]
    },
    {
     "ename": "ERROR",
     "evalue": "Error in file(file, \"rt\"): cannot open the connection\n",
     "output_type": "error",
     "traceback": [
      "Error in file(file, \"rt\"): cannot open the connection\nTraceback:\n",
      "1. read.csv(\"C:/Users/Gloria/df0809.csv\", header = TRUE)",
      "2. read.table(file = file, header = header, sep = sep, quote = quote, \n .     dec = dec, fill = fill, comment.char = comment.char, ...)",
      "3. file(file, \"rt\")"
     ]
    }
   ],
   "source": [
    "dataf <- read.csv(\"C:/Users/Gloria/df0809.csv\", header=TRUE)\n",
    "print(dataf)"
   ]
  },
  {
   "cell_type": "code",
   "execution_count": 5,
   "id": "authorized-madagascar",
   "metadata": {},
   "outputs": [
    {
     "ename": "ERROR",
     "evalue": "Error in gather(dataf, key = \"Period\", value = \"Value\"): could not find function \"gather\"\n",
     "output_type": "error",
     "traceback": [
      "Error in gather(dataf, key = \"Period\", value = \"Value\"): could not find function \"gather\"\nTraceback:\n"
     ]
    }
   ],
   "source": [
    "df2 <- gather(dataf, key = \"Period\", value= \"Value\")"
   ]
  },
  {
   "cell_type": "code",
   "execution_count": null,
   "id": "distant-freeze",
   "metadata": {},
   "outputs": [],
   "source": []
  }
 ],
 "metadata": {
  "kernelspec": {
   "display_name": "R",
   "language": "R",
   "name": "ir"
  },
  "language_info": {
   "codemirror_mode": "r",
   "file_extension": ".r",
   "mimetype": "text/x-r-source",
   "name": "R",
   "pygments_lexer": "r",
   "version": "4.0.3"
  }
 },
 "nbformat": 4,
 "nbformat_minor": 5
}
