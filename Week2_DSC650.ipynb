{
 "cells": [
  {
   "cell_type": "markdown",
   "id": "automotive-orleans",
   "metadata": {},
   "source": [
    "# Assignmente 02\n",
    "\n",
    "## Week2. Gloria Moore"
   ]
  },
  {
   "cell_type": "code",
   "execution_count": 15,
   "id": "progressive-public",
   "metadata": {},
   "outputs": [],
   "source": [
    " import pandas as pd\n",
    " import s3fs\n",
    "\n",
    " s3 = s3fs.S3FileSystem(\n",
    "    anon=True,\n",
    "    client_kwargs={\n",
    "        'endpoint_url': 'https://storage.budsc.midwest-datascience.com'\n",
    "      }\n",
    "   )\n",
    "\n",
    " df = pd.read_csv(\n",
    "    s3.open('data/external/tidynomicon/site.csv', mode='rb')\n",
    " )"
   ]
  },
  {
   "cell_type": "code",
   "execution_count": 16,
   "id": "raising-place",
   "metadata": {},
   "outputs": [],
   "source": [
    "import json\n",
    "from pathlib import Path\n",
    "import os\n",
    "\n",
    "import pandas as pd\n",
    "import s3fs\n",
    "\n",
    "\n",
    "def read_cluster_csv(file_path, endpoint_url='https://storage.budsc.midwest-datascience.com'):\n",
    "    s3 = s3fs.S3FileSystem(\n",
    "        anon=True,\n",
    "        client_kwargs={\n",
    "            'endpoint_url': endpoint_url\n",
    "        }\n",
    "    )\n",
    "    return pd.read_csv(s3.open(file_path, mode='rb'))\n",
    "\n",
    "current_dir = Path(os.getcwd()).absolute()\n",
    "results_dir = current_dir.joinpath('results')\n",
    "kv_data_dir = results_dir.joinpath('kvdb')\n",
    "kv_data_dir.mkdir(parents=True, exist_ok=True)\n",
    "\n",
    "people_json = kv_data_dir.joinpath('people.json')\n",
    "visited_json = kv_data_dir.joinpath('visited.json')\n",
    "sites_json = kv_data_dir.joinpath('sites.json')\n",
    "measurements_json = kv_data_dir.joinpath('measurements.json')"
   ]
  },
  {
   "cell_type": "code",
   "execution_count": 17,
   "id": "random-geometry",
   "metadata": {},
   "outputs": [],
   "source": [
    "class KVDB(object):\n",
    "    def __init__(self, db_path):\n",
    "        self._db_path = Path(db_path)\n",
    "        self._db = {}\n",
    "        self._load_db()\n",
    "\n",
    "    def _load_db(self):\n",
    "        if self._db_path.exists():\n",
    "            with open(self._db_path) as f:\n",
    "                self._db = json.load(f)\n",
    "\n",
    "    def get_value(self, key):\n",
    "        return self._db.get(key)\n",
    "\n",
    "    def set_value(self, key, value):\n",
    "        self._db[key] = value\n",
    "\n",
    "    def save(self):\n",
    "        with open(self._db_path, 'w') as f:\n",
    "            json.dump(self._db, f, indent=2)"
   ]
  },
  {
   "cell_type": "code",
   "execution_count": 18,
   "id": "connected-quick",
   "metadata": {},
   "outputs": [],
   "source": [
    "def create_sites_kvdb():\n",
    "    db = KVDB(sites_json)\n",
    "    df = read_cluster_csv('data/external/tidynomicon/site.csv')\n",
    "    print(df)\n",
    "    for site_id, group_df in df.groupby('site_id'):\n",
    "        db.set_value(site_id, group_df.to_dict(orient='records')[0])\n",
    "    db.save()\n",
    "\n",
    "\n",
    "def create_people_kvdb():\n",
    "    db = KVDB(people_json)\n",
    "    df = read_cluster_csv('data/external/tidynomicon/person.csv')\n",
    "    print(df)\n",
    "    for person_id, group_df in df.groupby('person_id'):\n",
    "        db.set_value(person_id, group_df.to_dict(orient='records')[0])\n",
    "    db.save()\n",
    "\n",
    "\n",
    "def create_visits_kvdb():\n",
    "    db = KVDB(visited_json)\n",
    "    df = read_cluster_csv('data/external/tidynomicon/visited.csv')\n",
    "    print(df)\n",
    "    for composite_key, group_df in df.groupby(['visit_id', 'site_id']):\n",
    "        db.set_value(str(composite_key), group_df.to_dict(orient='records')[0])\n",
    "    db.save()\n",
    "\n",
    "\n",
    "def create_measurements_kvdb():\n",
    "    db = KVDB(measurements_json)\n",
    "    df = read_cluster_csv('data/external/tidynomicon/measurements.csv')\n",
    "    print(df)\n",
    "    for composite_key, group_df in df.groupby(['person_id','visit_id', 'quantity']):\n",
    "        db.set_value(str(composite_key), group_df.to_dict(orient='records')[0])\n",
    "    db.save()"
   ]
  },
  {
   "cell_type": "code",
   "execution_count": 19,
   "id": "ranking-crawford",
   "metadata": {},
   "outputs": [
    {
     "name": "stdout",
     "output_type": "stream",
     "text": [
      "  site_id  latitude  longitude\n",
      "0    DR-1    -49.85    -128.57\n",
      "1    DR-3    -47.15    -126.72\n",
      "2   MSK-4    -48.87    -123.40\n"
     ]
    }
   ],
   "source": [
    "create_sites_kvdb()"
   ]
  },
  {
   "cell_type": "code",
   "execution_count": 5,
   "id": "addressed-violence",
   "metadata": {},
   "outputs": [
    {
     "name": "stdout",
     "output_type": "stream",
     "text": [
      "  person_id personal_name family_name\n",
      "0      dyer       William        Dyer\n",
      "1        pb         Frank     Pabodie\n",
      "2      lake      Anderson        Lake\n",
      "3       roe     Valentina     Roerich\n",
      "4  danforth         Frank    Danforth\n",
      "   visit_id site_id  visit_date\n",
      "0       619    DR-1  1927-02-08\n",
      "1       622    DR-1  1927-02-10\n",
      "2       734    DR-3  1930-01-07\n",
      "3       735    DR-3  1930-01-12\n",
      "4       751    DR-3  1930-02-26\n",
      "5       752    DR-3         NaN\n",
      "6       837   MSK-4  1932-01-14\n",
      "7       844    DR-1  1932-03-22\n",
      "    visit_id person_id quantity  reading\n",
      "0        619      dyer      rad     9.82\n",
      "1        619      dyer      sal     0.13\n",
      "2        622      dyer      rad     7.80\n",
      "3        622      dyer      sal     0.09\n",
      "4        734        pb      rad     8.41\n",
      "5        734      lake      sal     0.05\n",
      "6        734        pb     temp   -21.50\n",
      "7        735        pb      rad     7.22\n",
      "8        735        pb      sal     0.06\n",
      "9        735        pb     temp   -26.00\n",
      "10       751        pb      rad     4.35\n",
      "11       751        pb     temp   -18.50\n",
      "12       752      lake      rad     2.19\n",
      "13       752      lake      sal     0.09\n",
      "14       752      lake     temp   -16.00\n",
      "15       752       roe      sal    41.60\n",
      "16       837      lake      rad     1.46\n",
      "17       837      lake      sal     0.21\n",
      "18       837       roe      sal    22.50\n",
      "19       844       roe      rad    11.25\n"
     ]
    }
   ],
   "source": [
    "create_people_kvdb()\n",
    "create_visits_kvdb()\n",
    "create_measurements_kvdb()"
   ]
  },
  {
   "cell_type": "code",
   "execution_count": 6,
   "id": "other-guarantee",
   "metadata": {},
   "outputs": [],
   "source": [
    "kvdb_path = 'visits.json'\n",
    "kvdb = KVDB(kvdb_path)\n",
    "key = (619, 'DR-1')\n",
    "value = dict(\n",
    "    visit_id=619,\n",
    "    site_id='DR-1',\n",
    "    visit_date='1927-02-08')\n",
    "kvdb.set_value(key, value)\n",
    "retrieved_value = kvdb.get_value(key)"
   ]
  },
  {
   "cell_type": "code",
   "execution_count": 7,
   "id": "solid-works",
   "metadata": {},
   "outputs": [
    {
     "name": "stdout",
     "output_type": "stream",
     "text": [
      "{'visit_id': 619, 'site_id': 'DR-1', 'visit_date': '1927-02-08'}\n"
     ]
    }
   ],
   "source": [
    "print(retrieved_value)"
   ]
  },
  {
   "cell_type": "markdown",
   "id": "secondary-mystery",
   "metadata": {},
   "source": [
    "## Part 2.2 - 2.5"
   ]
  },
  {
   "cell_type": "code",
   "execution_count": 12,
   "id": "fundamental-hawaii",
   "metadata": {},
   "outputs": [],
   "source": [
    "def _load_json(json_path):\n",
    "    with open(json_path) as f:\n",
    "        return json.load(f)"
   ]
  },
  {
   "cell_type": "code",
   "execution_count": 13,
   "id": "selective-tournament",
   "metadata": {},
   "outputs": [],
   "source": [
    "from pathlib import Path\n",
    "import json\n",
    "import os\n",
    "\n",
    "from tinydb import TinyDB\n",
    "\n",
    "current_dir = Path(os.getcwd()).absolute()\n",
    "results_dir = current_dir.joinpath('results')\n",
    "kv_data_dir = results_dir.joinpath('kvdb')\n",
    "kv_data_dir.mkdir(parents=True, exist_ok=True)\n",
    "\n",
    "\n",
    "class DocumentDB(object):\n",
    "    def __init__(self, db_path):\n",
    "        ## You can use the code from the previous exmaple if you would like\n",
    "        people_json = kv_data_dir.joinpath('people.json')\n",
    "        visited_json = kv_data_dir.joinpath('visited.json')\n",
    "        sites_json = kv_data_dir.joinpath('sites.json')\n",
    "        measurements_json = kv_data_dir.joinpath('measurements.json')\n",
    "\n",
    "        self._db_path = Path(db_path)\n",
    "        self._db = None\n",
    "        self._person_lookup = _load_json(people_json)\n",
    "        self._site_lookup = _load_json(sites_json)\n",
    "        self._visit_lookup = _load_json(visited_json)\n",
    "        self._measurements_lookup = _load_json(measurements_json)\n",
    "        self._load_db()\n",
    "        \n",
    "    def _get_site(self, site_id):\n",
    "        return self._site_lookup[str(site_id)]\n",
    "                                 \n",
    "    def _get_measurements(self, person_id):\n",
    "        measurements = []       \n",
    "        for values in self._measurements_lookup.values():\n",
    "            measurements.extend([value for value in values if str(['person_id']) == str(person_id)])        \n",
    "        return measurements\n",
    "    def _get_visit(self, visit_id):\n",
    "            visit = self._visit_lookup.get(str(visit_id))\n",
    "            site_id = str(visit['site_id'])\n",
    "            site = self._site_lookup(site_id)\n",
    "            visit['site'] = site        \n",
    "            return visit    \n",
    "\n",
    "    def _load_db(self):\n",
    "        self._db = TinyDB(self._db_path)\n",
    "        persons = self._person_lookup.items()\n",
    "        for person_id, record in persons:\n",
    "            measurements = self._get_measurements(person_id)\n",
    "            visit_ids = set([measurement['visit_id'] for measurement in measurements])\n",
    "            visits = []\n",
    "            for visit_id in visit_ids:\n",
    "                visit = self._get_visit(visit_id)\n",
    "                visit['measurements'] = [measurement for measurement in measurements\n",
    "                    if visit_id == measurement['visit_id']\n",
    "                ]\n",
    "                visits.append(visit)            \n",
    "                record['visits'] = visits\n",
    "            self._db.insert(record)"
   ]
  },
  {
   "cell_type": "code",
   "execution_count": 14,
   "id": "limited-clerk",
   "metadata": {},
   "outputs": [],
   "source": [
    "db_path = results_dir.joinpath('patient-info.json')\n",
    "if db_path.exists():\n",
    "    os.remove(db_path)"
   ]
  },
  {
   "cell_type": "code",
   "execution_count": 15,
   "id": "bigger-minnesota",
   "metadata": {},
   "outputs": [],
   "source": [
    "db = DocumentDB(db_path)"
   ]
  },
  {
   "cell_type": "code",
   "execution_count": 16,
   "id": "everyday-disclaimer",
   "metadata": {},
   "outputs": [
    {
     "data": {
      "text/plain": [
       "<__main__.DocumentDB at 0x7f80d14d6d00>"
      ]
     },
     "execution_count": 16,
     "metadata": {},
     "output_type": "execute_result"
    }
   ],
   "source": [
    "db"
   ]
  },
  {
   "cell_type": "code",
   "execution_count": 1,
   "id": "funded-flexibility",
   "metadata": {},
   "outputs": [],
   "source": [
    "from pathlib import Path\n",
    "import os\n",
    "import sqlite3\n",
    "\n",
    "import s3fs\n",
    "import pandas as pd\n",
    "\n",
    "current_dir = Path(os.getcwd()).absolute()\n",
    "results_dir = current_dir.joinpath('results')\n",
    "kv_data_dir = results_dir.joinpath('kvdb')\n",
    "kv_data_dir.mkdir(parents=True, exist_ok=True)\n",
    "\n",
    "\n",
    "def read_cluster_csv(file_path, endpoint_url='https://storage.budsc.midwest-datascience.com'):\n",
    "    s3 = s3fs.S3FileSystem(\n",
    "        anon=True,\n",
    "        client_kwargs={\n",
    "            'endpoint_url': endpoint_url\n",
    "        }\n",
    "    )\n",
    "    return pd.read_csv(s3.open(file_path, mode='rb'))"
   ]
  },
  {
   "cell_type": "markdown",
   "id": "younger-swift",
   "metadata": {},
   "source": [
    "# Measurement Table"
   ]
  },
  {
   "cell_type": "code",
   "execution_count": 2,
   "id": "assisted-testament",
   "metadata": {},
   "outputs": [],
   "source": [
    "def create_measurements_table(conn):\n",
    "    sql = \"\"\"\n",
    "    CREATE TABLE IF NOT EXISTS measurements (\n",
    "        visit_id integer NOT NULL,\n",
    "        person_id text NOT NULL,\n",
    "        quantity text,\n",
    "        reading real,\n",
    "        FOREIGN KEY (visit_id) REFERENCES visits (visit_id),\n",
    "        FOREIGN KEY (person_id) REFERENCES people (people_id)\n",
    "        );\n",
    "    \"\"\"\n",
    "\n",
    "    c = conn.cursor()\n",
    "    c.execute(sql)\n",
    "    \n",
    "def load_measurements_table(conn):\n",
    "    create_measurements_table(conn)\n",
    "    df = read_cluster_csv('data/external/tidynomicon/measurements.csv')\n",
    "    measurements = df.values\n",
    "    c = conn.cursor()\n",
    "    c.execute('DELETE FROM measurements;') # Delete data if exists\n",
    "    c.executemany('INSERT INTO measurements VALUES (?,?,?,?)', measurements)"
   ]
  },
  {
   "cell_type": "markdown",
   "id": "fifth-focus",
   "metadata": {},
   "source": [
    "# People Table"
   ]
  },
  {
   "cell_type": "code",
   "execution_count": 3,
   "id": "preliminary-donor",
   "metadata": {},
   "outputs": [],
   "source": [
    "def create_people_table(conn):\n",
    "    sql = \"\"\"\n",
    "    CREATE TABLE IF NOT EXISTS people (\n",
    "        people_id text NOT NULL,\n",
    "        personal_name text,\n",
    "        family_name text\n",
    "        );\n",
    "    \"\"\"\n",
    "    c = conn.cursor()\n",
    "    c.execute(sql)\n",
    "    \n",
    "def load_people_table(conn):\n",
    "    create_people_table(conn)\n",
    "    df = read_cluster_csv('data/external/tidynomicon/person.csv')\n",
    "    people = df.values\n",
    "    c = conn.cursor()\n",
    "    c.execute('DELETE FROM people;') # Delete data if exists\n",
    "    c.executemany('INSERT INTO people VALUES (?,?,?)', people)"
   ]
  },
  {
   "cell_type": "markdown",
   "id": "alternate-class",
   "metadata": {},
   "source": [
    "# Visits Table"
   ]
  },
  {
   "cell_type": "code",
   "execution_count": 4,
   "id": "funky-appendix",
   "metadata": {},
   "outputs": [],
   "source": [
    "\n",
    "def create_visits_table(conn):\n",
    "    sql = \"\"\"\n",
    "    CREATE TABLE IF NOT EXISTS visits (\n",
    "        visit_id integer PRIMARY KEY,\n",
    "        site_id text NOT NULL,\n",
    "        visit_date text,\n",
    "        FOREIGN KEY (site_id) REFERENCES sites (site_id)\n",
    "        );\n",
    "    \"\"\"\n",
    "\n",
    "    c = conn.cursor()\n",
    "    c.execute(sql)\n",
    "\n",
    "def load_visits_table(conn):\n",
    "    create_visits_table(conn)\n",
    "    df = read_cluster_csv('data/external/tidynomicon/visited.csv')\n",
    "    visits = df.values\n",
    "    c = conn.cursor()\n",
    "    c.execute('DELETE FROM visits;') # Delete data if exists\n",
    "    c.executemany('INSERT INTO visits VALUES (?,?,?)', visits)"
   ]
  },
  {
   "cell_type": "markdown",
   "id": "legendary-thanksgiving",
   "metadata": {},
   "source": [
    "# Sites Table"
   ]
  },
  {
   "cell_type": "code",
   "execution_count": 5,
   "id": "persistent-playlist",
   "metadata": {},
   "outputs": [],
   "source": [
    "def create_sites_table(conn):\n",
    "    sql = \"\"\"\n",
    "    CREATE TABLE IF NOT EXISTS sites (\n",
    "        site_id text PRIMARY KEY,\n",
    "        latitude double NOT NULL,\n",
    "        longitude double NOT NULL\n",
    "        );\n",
    "    \"\"\"\n",
    "\n",
    "    c = conn.cursor()\n",
    "    c.execute(sql)\n",
    "\n",
    "def load_sites_table(conn):\n",
    "    create_sites_table(conn)\n",
    "    df = read_cluster_csv('data/external/tidynomicon/site.csv')\n",
    "    sites = df.values\n",
    "    c = conn.cursor()\n",
    "    c.execute('DELETE FROM sites;') # Delete data if exists\n",
    "    c.executemany('INSERT INTO people VALUES (?,?,?)', sites)"
   ]
  },
  {
   "cell_type": "code",
   "execution_count": 6,
   "id": "innocent-browser",
   "metadata": {},
   "outputs": [],
   "source": [
    "db_path = results_dir.joinpath('patient-info.db')\n",
    "conn = sqlite3.connect(str(db_path))\n",
    "\n",
    "load_people_table(conn) \n",
    "load_sites_table(conn)\n",
    "load_visits_table(conn)\n",
    "load_measurements_table(conn)\n",
    "\n",
    "conn.commit()\n",
    "conn.close()"
   ]
  },
  {
   "cell_type": "markdown",
   "id": "prepared-accreditation",
   "metadata": {},
   "source": [
    "# 2.5 Running a query"
   ]
  },
  {
   "cell_type": "markdown",
   "id": "extra-preview",
   "metadata": {},
   "source": [
    "#Recent Events\n",
    "SELECT ?event ?eventLabel ?date\n",
    "WHERE\n",
    "{\n",
    "    # find events\n",
    "    ?event wdt:P31/wdt:P279* wd:Q1190554.\n",
    "    # with a point in time or start date\n",
    "    OPTIONAL { ?event wdt:P585 ?date. }\n",
    "    OPTIONAL { ?event wdt:P580 ?date. }\n",
    "    # but at least one of those\n",
    "    FILTER(BOUND(?date) && DATATYPE(?date) = xsd:dateTime).\n",
    "    # not in the future, and not more than 31 days ago\n",
    "    BIND(NOW() - ?date AS ?distance).\n",
    "    FILTER(0 <= ?distance && ?distance < 31).\n",
    "    # and get a label as well\n",
    "    OPTIONAL {\n",
    "        ?event rdfs:label ?eventLabel.\n",
    "        FILTER(LANG(?eventLabel) = \"en\").\n",
    "    }\n",
    "}\n",
    "# limit to 10 results\n",
    "LIMIT 10"
   ]
  },
  {
   "cell_type": "code",
   "execution_count": 9,
   "id": "wrong-retirement",
   "metadata": {},
   "outputs": [],
   "source": [
    "results1 = pd.read_csv(\"query.csv\")"
   ]
  },
  {
   "cell_type": "code",
   "execution_count": 10,
   "id": "flexible-buddy",
   "metadata": {},
   "outputs": [
    {
     "data": {
      "text/html": [
       "<div>\n",
       "<style scoped>\n",
       "    .dataframe tbody tr th:only-of-type {\n",
       "        vertical-align: middle;\n",
       "    }\n",
       "\n",
       "    .dataframe tbody tr th {\n",
       "        vertical-align: top;\n",
       "    }\n",
       "\n",
       "    .dataframe thead th {\n",
       "        text-align: right;\n",
       "    }\n",
       "</style>\n",
       "<table border=\"1\" class=\"dataframe\">\n",
       "  <thead>\n",
       "    <tr style=\"text-align: right;\">\n",
       "      <th></th>\n",
       "      <th>event</th>\n",
       "      <th>eventLabel</th>\n",
       "      <th>date</th>\n",
       "    </tr>\n",
       "  </thead>\n",
       "  <tbody>\n",
       "    <tr>\n",
       "      <th>0</th>\n",
       "      <td>http://www.wikidata.org/entity/Q10377272</td>\n",
       "      <td>TV Kids</td>\n",
       "      <td>2021-03-15T00:00:00Z</td>\n",
       "    </tr>\n",
       "    <tr>\n",
       "      <th>1</th>\n",
       "      <td>http://www.wikidata.org/entity/Q29325343</td>\n",
       "      <td>2021 Western Australian state election</td>\n",
       "      <td>2021-03-13T00:00:00Z</td>\n",
       "    </tr>\n",
       "    <tr>\n",
       "      <th>2</th>\n",
       "      <td>http://www.wikidata.org/entity/Q56401728</td>\n",
       "      <td>2021 FC Barcelona presidential election</td>\n",
       "      <td>2021-03-07T00:00:00Z</td>\n",
       "    </tr>\n",
       "    <tr>\n",
       "      <th>3</th>\n",
       "      <td>http://www.wikidata.org/entity/Q56401728</td>\n",
       "      <td>2021 FC Barcelona presidential election</td>\n",
       "      <td>2021-03-07T00:00:00Z</td>\n",
       "    </tr>\n",
       "    <tr>\n",
       "      <th>4</th>\n",
       "      <td>http://www.wikidata.org/entity/Q65057072</td>\n",
       "      <td>2021 Palawan division plebiscite</td>\n",
       "      <td>2021-03-13T00:00:00Z</td>\n",
       "    </tr>\n",
       "    <tr>\n",
       "      <th>5</th>\n",
       "      <td>http://www.wikidata.org/entity/Q85772546</td>\n",
       "      <td>Juno Awards of 2021</td>\n",
       "      <td>2021-03-28T00:00:00Z</td>\n",
       "    </tr>\n",
       "    <tr>\n",
       "      <th>6</th>\n",
       "      <td>http://www.wikidata.org/entity/Q97164943</td>\n",
       "      <td>The Flash, season 7</td>\n",
       "      <td>2021-03-02T00:00:00Z</td>\n",
       "    </tr>\n",
       "    <tr>\n",
       "      <th>7</th>\n",
       "      <td>http://www.wikidata.org/entity/Q97579469</td>\n",
       "      <td>35th Goya Awards</td>\n",
       "      <td>2021-03-06T00:00:00Z</td>\n",
       "    </tr>\n",
       "    <tr>\n",
       "      <th>8</th>\n",
       "      <td>http://www.wikidata.org/entity/Q102046823</td>\n",
       "      <td>Koh-Lanta, season 22</td>\n",
       "      <td>2021-03-12T00:00:00Z</td>\n",
       "    </tr>\n",
       "    <tr>\n",
       "      <th>9</th>\n",
       "      <td>http://www.wikidata.org/entity/Q104099653</td>\n",
       "      <td>2020–21 Biathlon World Cup – Stage 8</td>\n",
       "      <td>2021-03-04T00:00:00Z</td>\n",
       "    </tr>\n",
       "  </tbody>\n",
       "</table>\n",
       "</div>"
      ],
      "text/plain": [
       "                                       event  \\\n",
       "0   http://www.wikidata.org/entity/Q10377272   \n",
       "1   http://www.wikidata.org/entity/Q29325343   \n",
       "2   http://www.wikidata.org/entity/Q56401728   \n",
       "3   http://www.wikidata.org/entity/Q56401728   \n",
       "4   http://www.wikidata.org/entity/Q65057072   \n",
       "5   http://www.wikidata.org/entity/Q85772546   \n",
       "6   http://www.wikidata.org/entity/Q97164943   \n",
       "7   http://www.wikidata.org/entity/Q97579469   \n",
       "8  http://www.wikidata.org/entity/Q102046823   \n",
       "9  http://www.wikidata.org/entity/Q104099653   \n",
       "\n",
       "                                eventLabel                  date  \n",
       "0                                  TV Kids  2021-03-15T00:00:00Z  \n",
       "1   2021 Western Australian state election  2021-03-13T00:00:00Z  \n",
       "2  2021 FC Barcelona presidential election  2021-03-07T00:00:00Z  \n",
       "3  2021 FC Barcelona presidential election  2021-03-07T00:00:00Z  \n",
       "4         2021 Palawan division plebiscite  2021-03-13T00:00:00Z  \n",
       "5                      Juno Awards of 2021  2021-03-28T00:00:00Z  \n",
       "6                      The Flash, season 7  2021-03-02T00:00:00Z  \n",
       "7                         35th Goya Awards  2021-03-06T00:00:00Z  \n",
       "8                     Koh-Lanta, season 22  2021-03-12T00:00:00Z  \n",
       "9     2020–21 Biathlon World Cup – Stage 8  2021-03-04T00:00:00Z  "
      ]
     },
     "execution_count": 10,
     "metadata": {},
     "output_type": "execute_result"
    }
   ],
   "source": [
    "results1"
   ]
  },
  {
   "cell_type": "code",
   "execution_count": null,
   "id": "lucky-amsterdam",
   "metadata": {},
   "outputs": [],
   "source": []
  }
 ],
 "metadata": {
  "kernelspec": {
   "display_name": "Python 3",
   "language": "python",
   "name": "python3"
  },
  "language_info": {
   "codemirror_mode": {
    "name": "ipython",
    "version": 3
   },
   "file_extension": ".py",
   "mimetype": "text/x-python",
   "name": "python",
   "nbconvert_exporter": "python",
   "pygments_lexer": "ipython3",
   "version": "3.8.8"
  }
 },
 "nbformat": 4,
 "nbformat_minor": 5
}
