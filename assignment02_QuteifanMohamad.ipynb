{
 "cells": [
  {
   "cell_type": "markdown",
   "metadata": {},
   "source": [
    "#### Mohamad Quteifan\n",
    "#### Professor: Amirfarrokh Iranitalab\n",
    "#### DSC 650: Big Data\n",
    "#### Assignment 2.1-2.4 (2.5 included in the bottom): Complete the code in kvdb.ipynb, etc. databases\n",
    "#### Date: 03/28/2021"
   ]
  },
  {
   "cell_type": "markdown",
   "metadata": {},
   "source": [
    "### Import the data needed for assignments 2.1-2.4"
   ]
  },
  {
   "cell_type": "code",
   "execution_count": 8,
   "metadata": {},
   "outputs": [],
   "source": [
    "import pandas as pd\n",
    "import s3fs\n",
    "\n",
    "s3 = s3fs.S3FileSystem(\n",
    "    anon=True,\n",
    "    client_kwargs={\n",
    "        'endpoint_url': 'https://storage.budsc.midwest-datascience.com'\n",
    "    }\n",
    ")\n",
    "\n",
    "df = pd.read_csv(\n",
    "    s3.open('data/external/tidynomicon/site.csv', mode='rb')\n",
    ")"
   ]
  },
  {
   "cell_type": "markdown",
   "metadata": {},
   "source": [
    "### Assignment 2.1: complete the code in KVDB.ipynb"
   ]
  },
  {
   "cell_type": "code",
   "execution_count": 9,
   "metadata": {},
   "outputs": [],
   "source": [
    "import json\n",
    "from pathlib import Path\n",
    "import os\n",
    "\n",
    "import pandas as pd\n",
    "import s3fs\n",
    "\n",
    "\n",
    "def read_cluster_csv(file_path, endpoint_url='https://storage.budsc.midwest-datascience.com'):\n",
    "    s3 = s3fs.S3FileSystem(\n",
    "        anon=True,\n",
    "        client_kwargs={\n",
    "            'endpoint_url': endpoint_url\n",
    "        }\n",
    "    )\n",
    "    return pd.read_csv(s3.open(file_path, mode='rb'))\n",
    "\n",
    "current_dir = Path(os.getcwd()).absolute()\n",
    "results_dir = current_dir.joinpath('results')\n",
    "kv_data_dir = results_dir.joinpath('kvdb')\n",
    "kv_data_dir.mkdir(parents=True, exist_ok=True)\n",
    "\n",
    "people_json = kv_data_dir.joinpath('people.json')\n",
    "visited_json = kv_data_dir.joinpath('visited.json')\n",
    "sites_json = kv_data_dir.joinpath('sites.json')\n",
    "measurements_json = kv_data_dir.joinpath('measurements.json')\n",
    "\n"
   ]
  },
  {
   "cell_type": "code",
   "execution_count": 10,
   "metadata": {},
   "outputs": [],
   "source": [
    "def _load_json(json_path):\n",
    "    with open(json_path) as f:\n",
    "        return json.load(f)\n",
    "    "
   ]
  },
  {
   "cell_type": "code",
   "execution_count": 11,
   "metadata": {},
   "outputs": [],
   "source": [
    "\n",
    "from pathlib import Path\n",
    "import json\n",
    "import os\n",
    "\n",
    "from tinydb import TinyDB\n",
    "\n",
    "current_dir = Path(os.getcwd()).absolute()\n",
    "results_dir = current_dir.joinpath('results')\n",
    "kv_data_dir = results_dir.joinpath('kvdb')\n",
    "kv_data_dir.mkdir(parents=True, exist_ok=True)\n",
    "\n",
    "\n",
    "class DocumentDB(object):\n",
    "    def __init__(self, db_path):\n",
    "        ## You can use the code from the previous exmaple if you would like\n",
    "        people_json = kv_data_dir.joinpath('people.json')\n",
    "        visited_json = kv_data_dir.joinpath('visited.json')\n",
    "        sites_json = kv_data_dir.joinpath('sites.json')\n",
    "        measurements_json = kv_data_dir.joinpath('measurements.json')\n",
    "\n",
    "        self._db_path = Path(db_path)\n",
    "        self._db = None\n",
    "        self._person_lookup = _load_json(people_json)\n",
    "        self._visit_lookup = _load_json(visited_json)\n",
    "        self._site_lookup = _load_json(sites_json)\n",
    "        self._measurements_lookup = _load_json(measurements_json)\n",
    "        self._load_db()\n",
    "    \n",
    "    def _get_site(self, site_id):\n",
    "        return self._site_lookup[str(site_id)]\n",
    "    \n",
    "    def _get_measurements(self, person_id):\n",
    "        measurements = []\n",
    "        for values in self._measurements_lookup.values():\n",
    "            measurements.extend([value for value in values if str(['person_id']) == str(person_id)])\n",
    "        return measurements\n",
    "    \n",
    "    def _get_visit(self, visit_id):\n",
    "        visit = self._visit_lookup.get(str(visit_id))\n",
    "        site_id = str(visit['site_id'])\n",
    "        site = self._site_lookup(site_id)\n",
    "        visit['site'] = site\n",
    "        return visit\n",
    "    \n",
    "    def _load_db(self):\n",
    "        self._db = TinyDB(self._db_path)\n",
    "        persons = self._person_lookup.items()\n",
    "        for person_id, record in persons:\n",
    "            measurements = self._get_measurements(person_id)\n",
    "            visit_ids = set([measurement['visit_id'] for measurement in measurements])\n",
    "            visits = []\n",
    "            for visit_id in visit_ids:\n",
    "                visit = self._get_visit(visit_id)\n",
    "                visit['measurements'] = [\n",
    "                    measurement for measurement in measurements\n",
    "                    if visit_id == measurement['visit_id']\n",
    "                ]\n",
    "                visits.append(visit)\n",
    "            record['visits'] = visits\n",
    "            self._db.insert(record)"
   ]
  },
  {
   "cell_type": "code",
   "execution_count": 12,
   "metadata": {},
   "outputs": [],
   "source": [
    "class KVDB(object):\n",
    "    def __init__(self, db_path):\n",
    "        self._db_path = Path(db_path)\n",
    "        self._db = {}\n",
    "        self._load_db()\n",
    "\n",
    "    def _load_db(self):\n",
    "        if self._db_path.exists():\n",
    "            with open(self._db_path) as f:\n",
    "                self._db = json.load(f)\n",
    "\n",
    "    def get_value(self, key):\n",
    "        return self._db.get(key)\n",
    "\n",
    "    def set_value(self, key, value):\n",
    "        self._db[key] = value\n",
    "\n",
    "    def save(self):\n",
    "        with open(self._db_path, 'w') as f:\n",
    "            json.dump(self._db, f, indent=2)"
   ]
  },
  {
   "cell_type": "code",
   "execution_count": 13,
   "metadata": {},
   "outputs": [],
   "source": [
    "def create_sites_kvdb():\n",
    "    db = KVDB(sites_json)\n",
    "    df = read_cluster_csv('data/external/tidynomicon/site.csv')\n",
    "    print(df)\n",
    "    for site_id, group_df in df.groupby('site_id'):\n",
    "        db.set_value(site_id, group_df.to_dict(orient='records')[0])\n",
    "    db.save()\n",
    "\n",
    "def create_people_kvdb():\n",
    "    db = KVDB(people_json)\n",
    "    df = read_cluster_csv('data/external/tidynomicon/person.csv')\n",
    "    print(df)\n",
    "    for person_id, group_df in df.groupby('person_id'):\n",
    "        db.set_value(person_id, group_df.to_dict(orient='records')[0])\n",
    "    db.save()\n",
    "\n",
    "def create_visits_kvdb():\n",
    "    db = KVDB(visited_json)\n",
    "    df = read_cluster_csv('data/external/tidynomicon/visited.csv')\n",
    "    print(df)\n",
    "    for composite_key, group_df in df.groupby(['visit_id', 'site_id']):\n",
    "        db.set_value(str(composite_key), group_df.to_dict(orient='records')[0])\n",
    "    db.save()\n",
    "\n",
    "def create_measurements_kvdb():\n",
    "    db = KVDB(measurements_json)\n",
    "    df = read_cluster_csv('data/external/tidynomicon/measurements.csv')\n",
    "    print(df)\n",
    "    for composite_key, group_df in df.groupby(['person_id','visit_id', 'quantity']):\n",
    "        db.set_value(str(composite_key), group_df.to_dict(orient='records')[0])\n",
    "    db.save()"
   ]
  },
  {
   "cell_type": "code",
   "execution_count": 14,
   "metadata": {},
   "outputs": [
    {
     "name": "stdout",
     "output_type": "stream",
     "text": [
      "  site_id  latitude  longitude\n",
      "0    DR-1    -49.85    -128.57\n",
      "1    DR-3    -47.15    -126.72\n",
      "2   MSK-4    -48.87    -123.40\n",
      "  person_id personal_name family_name\n",
      "0      dyer       William        Dyer\n",
      "1        pb         Frank     Pabodie\n",
      "2      lake      Anderson        Lake\n",
      "3       roe     Valentina     Roerich\n",
      "4  danforth         Frank    Danforth\n",
      "   visit_id site_id  visit_date\n",
      "0       619    DR-1  1927-02-08\n",
      "1       622    DR-1  1927-02-10\n",
      "2       734    DR-3  1930-01-07\n",
      "3       735    DR-3  1930-01-12\n",
      "4       751    DR-3  1930-02-26\n",
      "5       752    DR-3         NaN\n",
      "6       837   MSK-4  1932-01-14\n",
      "7       844    DR-1  1932-03-22\n",
      "    visit_id person_id quantity  reading\n",
      "0        619      dyer      rad     9.82\n",
      "1        619      dyer      sal     0.13\n",
      "2        622      dyer      rad     7.80\n",
      "3        622      dyer      sal     0.09\n",
      "4        734        pb      rad     8.41\n",
      "5        734      lake      sal     0.05\n",
      "6        734        pb     temp   -21.50\n",
      "7        735        pb      rad     7.22\n",
      "8        735        pb      sal     0.06\n",
      "9        735        pb     temp   -26.00\n",
      "10       751        pb      rad     4.35\n",
      "11       751        pb     temp   -18.50\n",
      "12       752      lake      rad     2.19\n",
      "13       752      lake      sal     0.09\n",
      "14       752      lake     temp   -16.00\n",
      "15       752       roe      sal    41.60\n",
      "16       837      lake      rad     1.46\n",
      "17       837      lake      sal     0.21\n",
      "18       837       roe      sal    22.50\n",
      "19       844       roe      rad    11.25\n"
     ]
    }
   ],
   "source": [
    "create_sites_kvdb()\n",
    "create_people_kvdb()\n",
    "create_visits_kvdb()\n",
    "create_measurements_kvdb()"
   ]
  },
  {
   "cell_type": "code",
   "execution_count": 15,
   "metadata": {},
   "outputs": [],
   "source": [
    "kvdb_path = 'measurements.json'\n",
    "kvdb = KVDB(kvdb_path)\n",
    "key = (619, 'dryer')\n",
    "value = dict(\n",
    "    visit_id=619,\n",
    "    person_id='dyer',\n",
    "    quantity='rad'\n",
    ")\n",
    "kvdb.set_value(key, value)\n",
    "retrieved_value = kvdb.get_value(key)"
   ]
  },
  {
   "cell_type": "code",
   "execution_count": 16,
   "metadata": {},
   "outputs": [],
   "source": [
    "kvdb_path = 'visits.json' \n",
    "kvdb = KVDB(kvdb_path) \n",
    "key = (619, 'DR-1') \n",
    "value = dict(\n",
    "    visit_id=619, \n",
    "    site_id='DR-1', \n",
    "    visit_date='1927-02-08'\n",
    ") \n",
    "kvdb.set_value(key, value) \n",
    "retrieved_value = kvdb.get_value(key)"
   ]
  },
  {
   "cell_type": "markdown",
   "metadata": {},
   "source": [
    "### Assignment 2.2: Now we will create a simple document database using the tinydb library"
   ]
  },
  {
   "cell_type": "code",
   "execution_count": 17,
   "metadata": {},
   "outputs": [],
   "source": [
    "def _load_json(json_path):\n",
    "    with open(json_path) as f:\n",
    "        return json.load(f)"
   ]
  },
  {
   "cell_type": "code",
   "execution_count": 20,
   "metadata": {},
   "outputs": [],
   "source": [
    "from pathlib import Path\n",
    "import json\n",
    "import os\n",
    "from tinydb import TinyDB\n",
    "\n",
    "current_dir = Path(os.getcwd()).absolute()\n",
    "results_dir = current_dir.joinpath('results')\n",
    "kv_data_dir = results_dir.joinpath('kvdb')\n",
    "kv_data_dir.mkdir(parents=True, exist_ok=True)\n",
    "\n",
    "def _load_json(json_path):\n",
    "    with open(json_path) as f:\n",
    "        return json.load(f)\n",
    "\n",
    "class DocumentDB(object):\n",
    "    def __init__(self, db_path):\n",
    "        people_json = kv_data_dir.joinpath('people.json')\n",
    "        visited_json = kv_data_dir.joinpath('visited.json')\n",
    "        sites_json = kv_data_dir.joinpath('sites.json')\n",
    "        measurements_json = kv_data_dir.joinpath('measurements.json')\n",
    "        self._db_path = Path(db_path)\n",
    "        self._db = None\n",
    "        self._person_lookup = _load_json(people_json)\n",
    "        self._visit_lookup = _load_json(visited_json)\n",
    "        self._site_lookup = _load_json(sites_json)\n",
    "        self._measurements_lookup = _load_json(measurements_json)\n",
    "\n",
    "        self._load_db()\n",
    "        \n",
    "    def _get_site(self, site_id):\n",
    "        return self._site_lookup[str(site_id)]\n",
    "    def _get_measurements(self, person_id):\n",
    "        measurements = []\n",
    "        for values in self._measurements_lookup.values():\n",
    "            measurements.extend([value for value in values if str(['person_id']) == str(person_id)])\n",
    "        return measurements\n",
    "    def _get_visit(self, visit_id):\n",
    "        visit = self._visit_lookup.get(str(visit_id))\n",
    "        site_id = str(visit['site_id'])\n",
    "        site = self._site_lookup(site_id)\n",
    "        visit['site'] = site\n",
    "        return visit\n",
    "    def _load_db(self):\n",
    "        self._db = TinyDB(self._db_path)\n",
    "        persons = self._person_lookup.items()\n",
    "        for person_id, record in persons:\n",
    "            measurements = self._get_measurements(person_id)\n",
    "            visit_ids = set([measurement['visit_id'] for measurement in measurements])\n",
    "            visits = []\n",
    "            for visit_id in visit_ids:\n",
    "                visit = self._get_visit(visit_id)\n",
    "                visit['measurements'] = [\n",
    "                    measurement for measurement in measurements\n",
    "                    if visit_id == measurement['visit_id']\n",
    "                ]\n",
    "                visits.append(visit)\n",
    "            record['visits'] = visits\n",
    "            self._db.insert(record)"
   ]
  },
  {
   "cell_type": "code",
   "execution_count": 21,
   "metadata": {},
   "outputs": [],
   "source": [
    "db_path = results_dir.joinpath('patient_info.json')\n",
    "if db_path.exists():\n",
    "    os.remove(db_path)\n",
    "\n",
    "db = DocumentDB(db_path)"
   ]
  },
  {
   "cell_type": "markdown",
   "metadata": {},
   "source": [
    "### 2.3 & 2.4: In this part, you will create a SQLite database"
   ]
  },
  {
   "cell_type": "code",
   "execution_count": 22,
   "metadata": {},
   "outputs": [],
   "source": [
    "from pathlib import Path\n",
    "import os\n",
    "import sqlite3\n",
    "\n",
    "import s3fs\n",
    "import pandas as pd\n",
    "\n",
    "current_dir = Path(os.getcwd()).absolute()\n",
    "results_dir = current_dir.joinpath('results')\n",
    "kv_data_dir = results_dir.joinpath('kvdb')\n",
    "kv_data_dir.mkdir(parents=True, exist_ok=True)\n",
    "\n",
    "\n",
    "def read_cluster_csv(file_path, endpoint_url='https://storage.budsc.midwest-datascience.com'):\n",
    "    s3 = s3fs.S3FileSystem(\n",
    "        anon=True,\n",
    "        client_kwargs={\n",
    "            'endpoint_url': endpoint_url\n",
    "        }\n",
    "    )\n",
    "    return pd.read_csv(s3.open(file_path, mode='rb'))"
   ]
  },
  {
   "cell_type": "markdown",
   "metadata": {},
   "source": [
    "#### Create and Load Measurements Table"
   ]
  },
  {
   "cell_type": "code",
   "execution_count": 23,
   "metadata": {},
   "outputs": [],
   "source": [
    "def create_measurements_table(conn):\n",
    "    sql = \"\"\"\n",
    "    CREATE TABLE IF NOT EXISTS measurements (\n",
    "        visit_id integer NOT NULL,\n",
    "        person_id text NOT NULL,\n",
    "        quantity text,\n",
    "        reading real,\n",
    "        FOREIGN KEY (visit_id) REFERENCES visits (visit_id),\n",
    "        FOREIGN KEY (person_id) REFERENCES people (people_id)\n",
    "        );\n",
    "    \"\"\"\n",
    "\n",
    "    c = conn.cursor()\n",
    "    c.execute(sql)\n",
    "    \n",
    "def load_measurements_table(conn):\n",
    "    create_measurements_table(conn)\n",
    "    df = read_cluster_csv('data/external/tidynomicon/measurements.csv')\n",
    "    measurements = df.values\n",
    "    c = conn.cursor()\n",
    "    c.execute('DELETE FROM measurements;') # Delete data if exists\n",
    "    c.executemany('INSERT INTO measurements VALUES (?,?,?,?)', measurements)"
   ]
  },
  {
   "cell_type": "markdown",
   "metadata": {},
   "source": [
    "#### Create and Load People Table"
   ]
  },
  {
   "cell_type": "code",
   "execution_count": 24,
   "metadata": {},
   "outputs": [],
   "source": [
    "def create_people_table(conn):\n",
    "    sql = \"\"\"\n",
    "    CREATE TABLE IF NOT EXISTS people (\n",
    "        people_id text NOT NULL,\n",
    "        personal_name text,\n",
    "        family_name text\n",
    "        );\n",
    "    \"\"\"\n",
    "    c = conn.cursor()\n",
    "    c.execute(sql)\n",
    "    \n",
    "def load_people_table(conn):\n",
    "    create_people_table(conn)\n",
    "    df_people = read_cluster_csv('data/external/tidynomicon/person.csv')\n",
    "    people = df_people.values\n",
    "    c = conn.cursor()\n",
    "    c.execute('DELETE FROM people;') # Delete data if exists\n",
    "    c.executemany('INSERT INTO people VALUES (?,?,?)', people)"
   ]
  },
  {
   "cell_type": "markdown",
   "metadata": {},
   "source": [
    "#### Create and Load Sites Table"
   ]
  },
  {
   "cell_type": "code",
   "execution_count": 25,
   "metadata": {},
   "outputs": [],
   "source": [
    "def create_sites_table(conn):\n",
    "    sql = \"\"\"\n",
    "    CREATE TABLE IF NOT EXISTS sites (\n",
    "        site_id text PRIMARY KEY,\n",
    "        latitude double NOT NULL,\n",
    "        longitude double NOT NULL\n",
    "        );\n",
    "    \"\"\"\n",
    "\n",
    "    c = conn.cursor()\n",
    "    c.execute(sql)\n",
    "\n",
    "def load_sites_table(conn):\n",
    "    create_sites_table(conn)\n",
    "    df_sites = read_cluster_csv('data/external/tidynomicon/site.csv')\n",
    "    sites = df_sites.values\n",
    "    c = conn.cursor()\n",
    "    c.execute('DELETE FROM sites;') # Delete data if exists\n",
    "    c.executemany('INSERT INTO sites VALUES (?,?,?)', sites)"
   ]
  },
  {
   "cell_type": "markdown",
   "metadata": {},
   "source": [
    "#### Create and Load Visits Table"
   ]
  },
  {
   "cell_type": "code",
   "execution_count": 26,
   "metadata": {},
   "outputs": [],
   "source": [
    "def create_visits_table(conn):\n",
    "    sql = \"\"\"\n",
    "    CREATE TABLE IF NOT EXISTS visits (\n",
    "        visit_id integer PRIMARY KEY,\n",
    "        site_id text NOT NULL,\n",
    "        visit_date text,\n",
    "        FOREIGN KEY (site_id) REFERENCES sites (site_id)\n",
    "        );\n",
    "    \"\"\"\n",
    "\n",
    "    c = conn.cursor()\n",
    "    c.execute(sql)\n",
    "\n",
    "def load_visits_table(conn):\n",
    "    create_visits_table(conn)\n",
    "    df_visited = read_cluster_csv('data/external/tidynomicon/visited.csv')\n",
    "    visits = df_visited.values\n",
    "    c = conn.cursor()\n",
    "    c.execute('DELETE FROM visits;') # Delete data if exists\n",
    "    c.executemany('INSERT INTO visits VALUES (?,?,?)', visits)"
   ]
  },
  {
   "cell_type": "markdown",
   "metadata": {},
   "source": [
    "#### Create DB and Load Tables"
   ]
  },
  {
   "cell_type": "code",
   "execution_count": 27,
   "metadata": {},
   "outputs": [],
   "source": [
    "db_path = results_dir.joinpath('patient-info.db')\n",
    "conn = sqlite3.connect(str(db_path))\n",
    "\n",
    "load_people_table(conn) \n",
    "load_sites_table(conn)\n",
    "load_visits_table(conn)\n",
    "load_measurements_table(conn)\n",
    "\n",
    "conn.commit()\n",
    "conn.close()\n",
    "\n"
   ]
  },
  {
   "cell_type": "markdown",
   "metadata": {},
   "source": [
    "### Assignment 2.5: Go to the Wikidata Query Service website and perform the following SPARQL query."
   ]
  },
  {
   "cell_type": "raw",
   "metadata": {},
   "source": [
    "#Recent Events\n",
    "SELECT ?event ?eventLabel ?date\n",
    "WHERE\n",
    "{\n",
    "    #find events\n",
    "    ?event wdt:P31/wdt:P279* wd:Q1190554.\n",
    "    # with a point in time or start date\n",
    "    OPTIONAL { ?event wdt:P585 ?date. }\n",
    "    OPTIONAL { ?event wdt:P580 ?date. }\n",
    "    # but at least one of those\n",
    "    FILTER(BOUND(?date) && DATATYPE(?date) = xsd:dateTime).\n",
    "    # not in the future, and not more than 31 days ago\n",
    "    BIND(NOW() - ?date AS ?distance).\n",
    "    FILTER(0 <= ?distance && ?distance < 31).\n",
    "    # and get a label as well\n",
    "    OPTIONAL {\n",
    "        ?event rdfs:label ?eventLabel.\n",
    "        FILTER(LANG(?eventLabel) = \"en\").\n",
    "    }\n",
    "}\n",
    "# limit to 10 results so we don't timeout\n",
    "LIMIT 10"
   ]
  },
  {
   "cell_type": "markdown",
   "metadata": {},
   "source": [
    "CSV(COMMA SEPERATED VALUE\n",
    "\n",
    "event,         eventLabel,   date\n",
    "\n",
    "1. wd:Q10377272, TV Kids, 15 March 2021\n",
    "2. wd:Q29325343, 2021 Western Australian state election, 13 March 2021\n",
    "3. wd:Q56401728, 2021 FC Barcelona presidential election, 7 March 2021\n",
    "4. wd:Q56401728, 2021 FC Barcelona presidential election, 7 March 2021\n",
    "5. wd:Q85772546, Juno Awards of 2021, 28 March 2021\n",
    "6. wd:Q97164943, The Flash, season 7, 2 March 2021\n",
    "7. wd:Q97579469, 35th Goya Awards, 6 March 2021\n",
    "8. wd:Q101466553, The European Data Conference on Reference Data and Semantics,    16 March 2021\n",
    "9. wd:Q102046823, Koh-Lanta, season 22, 12 March 2021\n",
    "10. wd:Q104099653, 2020–21 Biathlon World Cup – Stage 8, 4 March 2021\n"
   ]
  },
  {
   "cell_type": "code",
   "execution_count": null,
   "metadata": {},
   "outputs": [],
   "source": []
  },
  {
   "cell_type": "code",
   "execution_count": null,
   "metadata": {},
   "outputs": [],
   "source": []
  },
  {
   "cell_type": "code",
   "execution_count": null,
   "metadata": {},
   "outputs": [],
   "source": []
  }
 ],
 "metadata": {
  "kernelspec": {
   "display_name": "Python 3",
   "language": "python",
   "name": "python3"
  },
  "language_info": {
   "codemirror_mode": {
    "name": "ipython",
    "version": 3
   },
   "file_extension": ".py",
   "mimetype": "text/x-python",
   "name": "python",
   "nbconvert_exporter": "python",
   "pygments_lexer": "ipython3",
   "version": "3.8.8"
  }
 },
 "nbformat": 4,
 "nbformat_minor": 4
}
